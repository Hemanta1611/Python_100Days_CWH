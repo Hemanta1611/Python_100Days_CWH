{
 "cells": [
  {
   "cell_type": "markdown",
   "metadata": {
    "cellUniqueIdByVincent": "5dd17"
   },
   "source": [
    "## Python Logging\n",
    "\n",
    "Logging is a crucial aspect of any application, providing a way to track events, errors, and operational information. Python's built-in logging module offers a flexible framework for emitting log messages from Python programs. In this lesson, we will cover the basics of logging, including how to configure logging, log levels, and best practices for using logging in Pyhon application."
   ]
  },
  {
   "cell_type": "code",
   "execution_count": 1,
   "id": "29fd7694",
   "metadata": {
    "cellUniqueIdByVincent": "75600"
   },
   "outputs": [
    {
     "name": "stderr",
     "output_type": "stream",
     "text": [
      "DEBUG:root:This is a debug message\n",
      "INFO:root:This is an info message\n",
      "WARNING:root:This is a warning message\n",
      "ERROR:root:This is an error message\n",
      "CRITICAL:root:This is a critical message\n"
     ]
    }
   ],
   "source": [
    "import logging\n",
    "import os\n",
    "\n",
    "# Configure the basic logging setting\n",
    "logging.basicConfig(level=logging.DEBUG)\n",
    "\n",
    "# log messages with different severity levels\n",
    "logging.debug(\"This is a debug message\")\n",
    "logging.info(\"This is an info message\")\n",
    "logging.warning(\"This is a warning message\")\n",
    "logging.error(\"This is an error message\")\n",
    "logging.critical(\"This is a critical message\")\n"
   ]
  },
  {
   "cell_type": "markdown",
   "metadata": {
    "cellUniqueIdByVincent": "700ca"
   },
   "source": [
    "## `log levels:`\n",
    "Python's logging module has several log levels indicating the severity of events. The default level are: <br> <Br>\n",
    "`DEBUG:` Used for detailed diagnostic information, typically of interest only when diagnosing problems.<br><br>\n",
    "`INFO:` Used to confirm that things are working as expected during normal operation.<br><br>\n",
    "`WARNING:` Indicates something unexpected happened, or a potential problem, but the program is still running.<br><br>\n",
    "`ERROR:` Indicates a more serious problem; the program has failed to perform a function.<br><br>\n",
    "`CRITICAL:` Indicates a very serious error, usually a program crash or a situation requiring immediate attention.<br><br>"
   ]
  },
  {
   "cell_type": "code",
   "execution_count": 2,
   "metadata": {
    "cellUniqueIdByVincent": "7527e"
   },
   "outputs": [],
   "source": [
    "## configuring logging\n",
    "import logging\n",
    "logging.basicConfig(\n",
    "    level=logging.DEBUG,\n",
    "    format='%(asctime)s - %(name)s - %(levelname)s - %(message)s',\n",
    "    datefmt='%Y-%m-%d %H:%M:%S',\n",
    "    filename='app.log',\n",
    "    filemode='w'\n",
    ")"
   ]
  },
  {
   "cell_type": "code",
   "execution_count": 3,
   "metadata": {
    "cellUniqueIdByVincent": "95207"
   },
   "outputs": [],
   "source": [
    "logging.debug(\"This is a debug message\")\n",
    "logging.info(\"This is an info message\")\n",
    "logging.warning(\"This is a warning message\")\n",
    "logging.error(\"This is an error message\")\n",
    "logging.critical(\"This is a critical message\")"
   ]
  },
  {
   "cell_type": "code",
   "execution_count": null,
   "metadata": {
    "cellUniqueIdByVincent": "1df9b"
   },
   "outputs": [],
   "source": []
  }
 ],
 "metadata": {
  "kernelspec": {
   "display_name": "Python 3",
   "language": "python",
   "name": "python3"
  },
  "language_info": {
   "codemirror_mode": {
    "name": "ipython",
    "version": 3
   },
   "file_extension": ".py",
   "mimetype": "text/x-python",
   "name": "python",
   "nbconvert_exporter": "python",
   "pygments_lexer": "ipython3",
   "version": "3.13.0"
  },
  "vincent": {
   "sessionId": "872d437703900e11f9aa61cf_2025-06-19T07-27-43-395Z"
  }
 },
 "nbformat": 4,
 "nbformat_minor": 5
}
