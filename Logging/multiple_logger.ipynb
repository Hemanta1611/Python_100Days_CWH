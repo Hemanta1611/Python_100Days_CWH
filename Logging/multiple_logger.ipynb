{
 "cells": [
  {
   "cell_type": "markdown",
   "metadata": {
    "cellUniqueIdByVincent": "95da6"
   },
   "source": [
    "### Logging with Multiple Loggers\n",
    "\n",
    "You can create multiple loggers for different parts of your application."
   ]
  },
  {
   "cell_type": "code",
   "execution_count": 1,
   "id": "cffdfe68",
   "metadata": {
    "cellUniqueIdByVincent": "c72d3"
   },
   "outputs": [],
   "source": [
    "import logging\n",
    "\n",
    "logger1 = logging.getLogger(\"module1\")\n",
    "logger1.setLevel(logging.DEBUG)\n",
    "\n",
    "\n",
    "logger2 = logging.getLogger(\"module2\")\n",
    "logger2.setLevel(logging.WARNING)\n",
    "\n",
    "\n",
    "logging.basicConfig(\n",
    "    level=logging.DEBUG,\n",
    "    format='%(asctime)s - %(name)s - %(levelname)s - %(message)s',\n",
    "    datefmt='%Y-%m-%d %H:%M:%S',\n",
    "    filename='multi-app.log',\n",
    "    filemode='w'\n",
    ")\n"
   ]
  },
  {
   "cell_type": "code",
   "execution_count": 2,
   "metadata": {
    "cellUniqueIdByVincent": "a5f1f"
   },
   "outputs": [],
   "source": [
    "logger1.debug(\"This is debug msg for module1\")\n",
    "logger2.warning(\"This is warning msg for module2\")"
   ]
  },
  {
   "cell_type": "code",
   "execution_count": null,
   "metadata": {
    "cellUniqueIdByVincent": "7c7f2"
   },
   "outputs": [],
   "source": []
  }
 ],
 "metadata": {
  "kernelspec": {
   "display_name": "Python 3",
   "language": "python",
   "name": "python3"
  },
  "language_info": {
   "codemirror_mode": {
    "name": "ipython",
    "version": 3
   },
   "file_extension": ".py",
   "mimetype": "text/x-python",
   "name": "python",
   "nbconvert_exporter": "python",
   "pygments_lexer": "ipython3",
   "version": "3.13.0"
  },
  "vincent": {
   "sessionId": "6ca56305f0de5d4394963ae8_2025-06-19T08-14-22-089Z"
  }
 },
 "nbformat": 4,
 "nbformat_minor": 5
}
